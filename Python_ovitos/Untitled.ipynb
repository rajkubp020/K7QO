{
 "cells": [
  {
   "cell_type": "code",
   "execution_count": null,
   "metadata": {},
   "outputs": [],
   "source": [
    "from ovito.io import *\n",
    "from ovito.data import *\n",
    "from ovito.modifiers import *\n",
    "import numpy as np\n",
    "\n",
    "def modify(frame, input, output):\n",
    "    node = import_file(\"/Users/tanupittie/Desktop/tde81_11.xyz\", multiple_frames = True , columns =\n",
    "      [\"Particle Identifier\", \"Particle Type\", \"Position.X\", \"Position.Y\", \"Position.Z\", \"None\", \"None\"\"None\"])\n",
    "    for frame in range(node.source.num_frames) :\n",
    "  # Perform Wigner-Seitz analysis:\n",
    "        ws = WignerSeitzAnalysisModifier(\n",
    "            eliminate_cell_deformation = True)\n",
    "        ws.reference.load(\"/Users/tanupittie/Desktop/Mg.equi.dat\")\n",
    "        node.modifiers.append(ws)\n",
    "        node.compute()\n",
    "    #occupancy = node.output['Occupancy'].array\n",
    "    #mask1 = (occupancy==0)\n",
    "    #mask2 = (occupancy>1)\n",
    "    #vacancies = np.count_nonzero((occupancy[mask1]))\n",
    "    #interstitials = np.count_nonzero((occupancy[mask2]))\n",
    "        export_file(node, \"/Users/tanupittie/Desktop/Defect.txt\", \"txt\",\n",
    "            columns = ['Frame', 'WignerSeitz.vacancy_count', 'WignerSeitz.interstitial_count'],\n",
    "            multiple_frames = True)\n",
    "    node.source.load('/Users/tanupittie/Desktop/tde81_12.xyz')\n",
    "\n"
   ]
  },
  {
   "cell_type": "code",
   "execution_count": null,
   "metadata": {},
   "outputs": [],
   "source": [
    "print (\"Hello Ovito\")"
   ]
  },
  {
   "cell_type": "code",
   "execution_count": null,
   "metadata": {},
   "outputs": [],
   "source": []
  }
 ],
 "metadata": {
  "kernelspec": {
   "display_name": "Ovito",
   "language": "python",
   "name": "ovito"
  }
 },
 "nbformat": 4,
 "nbformat_minor": 2
}
